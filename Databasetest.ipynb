{
 "cells": [
  {
   "cell_type": "code",
   "execution_count": 1,
   "metadata": {},
   "outputs": [
    {
     "name": "stdout",
     "output_type": "stream",
     "text": [
      "Requirement already satisfied: google-cloud-bigquery in c:\\users\\michael\\anaconda3\\envs\\py38\\lib\\site-packages (3.13.0)\n",
      "Requirement already satisfied: chardet in c:\\users\\michael\\anaconda3\\envs\\py38\\lib\\site-packages (5.2.0)\n",
      "Requirement already satisfied: grpcio<2.0dev,>=1.47.0 in c:\\users\\michael\\anaconda3\\envs\\py38\\lib\\site-packages (from google-cloud-bigquery) (1.59.3)\n",
      "Requirement already satisfied: google-api-core[grpc]!=2.0.*,!=2.1.*,!=2.2.*,!=2.3.0,<3.0.0dev,>=1.31.5 in c:\\users\\michael\\anaconda3\\envs\\py38\\lib\\site-packages (from google-cloud-bigquery) (2.14.0)\n",
      "Requirement already satisfied: proto-plus<2.0.0dev,>=1.15.0 in c:\\users\\michael\\anaconda3\\envs\\py38\\lib\\site-packages (from google-cloud-bigquery) (1.22.3)\n",
      "Requirement already satisfied: google-cloud-core<3.0.0dev,>=1.6.0 in c:\\users\\michael\\anaconda3\\envs\\py38\\lib\\site-packages (from google-cloud-bigquery) (2.3.3)\n",
      "Requirement already satisfied: google-resumable-media<3.0dev,>=0.6.0 in c:\\users\\michael\\anaconda3\\envs\\py38\\lib\\site-packages (from google-cloud-bigquery) (2.6.0)\n",
      "Requirement already satisfied: packaging>=20.0.0 in c:\\users\\michael\\anaconda3\\envs\\py38\\lib\\site-packages (from google-cloud-bigquery) (20.9)\n",
      "Requirement already satisfied: protobuf!=3.20.0,!=3.20.1,!=4.21.0,!=4.21.1,!=4.21.2,!=4.21.3,!=4.21.4,!=4.21.5,<5.0.0dev,>=3.19.5 in c:\\users\\michael\\anaconda3\\envs\\py38\\lib\\site-packages (from google-cloud-bigquery) (4.25.1)\n",
      "Requirement already satisfied: python-dateutil<3.0dev,>=2.7.2 in c:\\users\\michael\\appdata\\roaming\\python\\python38\\site-packages (from google-cloud-bigquery) (2.8.2)\n",
      "Requirement already satisfied: requests<3.0.0dev,>=2.21.0 in c:\\users\\michael\\anaconda3\\envs\\py38\\lib\\site-packages (from google-cloud-bigquery) (2.30.0)\n",
      "Requirement already satisfied: googleapis-common-protos<2.0.dev0,>=1.56.2 in c:\\users\\michael\\anaconda3\\envs\\py38\\lib\\site-packages (from google-api-core[grpc]!=2.0.*,!=2.1.*,!=2.2.*,!=2.3.0,<3.0.0dev,>=1.31.5->google-cloud-bigquery) (1.61.0)\n",
      "Requirement already satisfied: google-auth<3.0.dev0,>=2.14.1 in c:\\users\\michael\\anaconda3\\envs\\py38\\lib\\site-packages (from google-api-core[grpc]!=2.0.*,!=2.1.*,!=2.2.*,!=2.3.0,<3.0.0dev,>=1.31.5->google-cloud-bigquery) (2.22.0)\n",
      "Requirement already satisfied: grpcio-status<2.0.dev0,>=1.33.2 in c:\\users\\michael\\anaconda3\\envs\\py38\\lib\\site-packages (from google-api-core[grpc]!=2.0.*,!=2.1.*,!=2.2.*,!=2.3.0,<3.0.0dev,>=1.31.5->google-cloud-bigquery) (1.59.3)\n",
      "Requirement already satisfied: google-crc32c<2.0dev,>=1.0 in c:\\users\\michael\\anaconda3\\envs\\py38\\lib\\site-packages (from google-resumable-media<3.0dev,>=0.6.0->google-cloud-bigquery) (1.5.0)\n",
      "Requirement already satisfied: pyparsing>=2.0.2 in c:\\users\\michael\\anaconda3\\envs\\py38\\lib\\site-packages (from packaging>=20.0.0->google-cloud-bigquery) (3.0.9)\n",
      "Requirement already satisfied: six>=1.5 in c:\\users\\michael\\anaconda3\\envs\\py38\\lib\\site-packages (from python-dateutil<3.0dev,>=2.7.2->google-cloud-bigquery) (1.16.0)\n",
      "Requirement already satisfied: charset-normalizer<4,>=2 in c:\\users\\michael\\appdata\\roaming\\python\\python38\\site-packages (from requests<3.0.0dev,>=2.21.0->google-cloud-bigquery) (3.3.2)\n",
      "Requirement already satisfied: idna<4,>=2.5 in c:\\users\\michael\\anaconda3\\envs\\py38\\lib\\site-packages (from requests<3.0.0dev,>=2.21.0->google-cloud-bigquery) (3.4)\n",
      "Requirement already satisfied: urllib3<3,>=1.21.1 in c:\\users\\michael\\anaconda3\\envs\\py38\\lib\\site-packages (from requests<3.0.0dev,>=2.21.0->google-cloud-bigquery) (1.26.16)\n",
      "Requirement already satisfied: certifi>=2017.4.17 in c:\\users\\michael\\anaconda3\\envs\\py38\\lib\\site-packages (from requests<3.0.0dev,>=2.21.0->google-cloud-bigquery) (2023.7.22)\n",
      "Requirement already satisfied: cachetools<6.0,>=2.0.0 in c:\\users\\michael\\anaconda3\\envs\\py38\\lib\\site-packages (from google-auth<3.0.dev0,>=2.14.1->google-api-core[grpc]!=2.0.*,!=2.1.*,!=2.2.*,!=2.3.0,<3.0.0dev,>=1.31.5->google-cloud-bigquery) (4.2.2)\n",
      "Requirement already satisfied: pyasn1-modules>=0.2.1 in c:\\users\\michael\\anaconda3\\envs\\py38\\lib\\site-packages (from google-auth<3.0.dev0,>=2.14.1->google-api-core[grpc]!=2.0.*,!=2.1.*,!=2.2.*,!=2.3.0,<3.0.0dev,>=1.31.5->google-cloud-bigquery) (0.2.8)\n",
      "Requirement already satisfied: rsa<5,>=3.1.4 in c:\\users\\michael\\anaconda3\\envs\\py38\\lib\\site-packages (from google-auth<3.0.dev0,>=2.14.1->google-api-core[grpc]!=2.0.*,!=2.1.*,!=2.2.*,!=2.3.0,<3.0.0dev,>=1.31.5->google-cloud-bigquery) (4.7.2)\n",
      "Requirement already satisfied: pyasn1<0.5.0,>=0.4.6 in c:\\users\\michael\\anaconda3\\envs\\py38\\lib\\site-packages (from pyasn1-modules>=0.2.1->google-auth<3.0.dev0,>=2.14.1->google-api-core[grpc]!=2.0.*,!=2.1.*,!=2.2.*,!=2.3.0,<3.0.0dev,>=1.31.5->google-cloud-bigquery) (0.4.8)\n",
      "Note: you may need to restart the kernel to use updated packages.\n"
     ]
    },
    {
     "name": "stderr",
     "output_type": "stream",
     "text": [
      "WARNING: Ignoring invalid distribution -ensorflow (c:\\users\\michael\\anaconda3\\envs\\py38\\lib\\site-packages)\n",
      "WARNING: Ignoring invalid distribution -rotobuf (c:\\users\\michael\\anaconda3\\envs\\py38\\lib\\site-packages)\n",
      "WARNING: Ignoring invalid distribution -ensorflow (c:\\users\\michael\\anaconda3\\envs\\py38\\lib\\site-packages)\n",
      "WARNING: Ignoring invalid distribution -rotobuf (c:\\users\\michael\\anaconda3\\envs\\py38\\lib\\site-packages)\n"
     ]
    }
   ],
   "source": [
    "%pip install google-cloud-bigquery chardet"
   ]
  },
  {
   "cell_type": "code",
   "execution_count": 2,
   "metadata": {},
   "outputs": [
    {
     "name": "stdout",
     "output_type": "stream",
     "text": [
      "Requirement already satisfied: charset_normalizer in c:\\users\\michael\\appdata\\roaming\\python\\python38\\site-packages (3.3.2)\n",
      "Note: you may need to restart the kernel to use updated packages.\n"
     ]
    },
    {
     "name": "stderr",
     "output_type": "stream",
     "text": [
      "WARNING: Ignoring invalid distribution -ensorflow (c:\\users\\michael\\anaconda3\\envs\\py38\\lib\\site-packages)\n",
      "WARNING: Ignoring invalid distribution -rotobuf (c:\\users\\michael\\anaconda3\\envs\\py38\\lib\\site-packages)\n",
      "WARNING: Ignoring invalid distribution -ensorflow (c:\\users\\michael\\anaconda3\\envs\\py38\\lib\\site-packages)\n",
      "WARNING: Ignoring invalid distribution -rotobuf (c:\\users\\michael\\anaconda3\\envs\\py38\\lib\\site-packages)\n"
     ]
    }
   ],
   "source": [
    "%pip install --upgrade charset_normalizer --user"
   ]
  },
  {
   "cell_type": "code",
   "execution_count": 2,
   "metadata": {},
   "outputs": [],
   "source": [
    "from google.oauth2 import service_account\n",
    "\n",
    "credentials = service_account.Credentials.from_service_account_file(\n",
    "    'querier-test-01-a8cea750269c.json')"
   ]
  },
  {
   "cell_type": "code",
   "execution_count": 5,
   "metadata": {},
   "outputs": [
    {
     "name": "stdout",
     "output_type": "stream",
     "text": [
      "The query data:\n",
      "Row((11.6, 0.58, 0.66, 2.2, 0.07400000000000001, 10.0, 47.0, 1.0008, 3.25, 0.57, 9.0, 3, 459), {'fixed_acidity': 0, 'volatile_acidity': 1, 'citric_acid': 2, 'residual_sugar': 3, 'chlorides': 4, 'free_sulfur_dioxide': 5, 'total_sulfur_dioxide': 6, 'density': 7, 'pH': 8, 'sulphates': 9, 'alcohol': 10, 'quality': 11, 'Id': 12})\n",
      "Row((7.3, 0.98, 0.05, 2.1, 0.061, 20.0, 49.0, 0.99705, 3.31, 0.55, 9.7, 3, 1469), {'fixed_acidity': 0, 'volatile_acidity': 1, 'citric_acid': 2, 'residual_sugar': 3, 'chlorides': 4, 'free_sulfur_dioxide': 5, 'total_sulfur_dioxide': 6, 'density': 7, 'pH': 8, 'sulphates': 9, 'alcohol': 10, 'quality': 11, 'Id': 12})\n",
      "Row((7.1, 0.875, 0.05, 5.7, 0.08199999999999999, 3.0, 14.0, 0.99808, 3.4, 0.52, 10.2, 3, 1478), {'fixed_acidity': 0, 'volatile_acidity': 1, 'citric_acid': 2, 'residual_sugar': 3, 'chlorides': 4, 'free_sulfur_dioxide': 5, 'total_sulfur_dioxide': 6, 'density': 7, 'pH': 8, 'sulphates': 9, 'alcohol': 10, 'quality': 11, 'Id': 12})\n",
      "Row((6.7, 0.76, 0.02, 1.8, 0.078, 6.0, 12.0, 0.996, 3.55, 0.63, 9.95, 3, 1505), {'fixed_acidity': 0, 'volatile_acidity': 1, 'citric_acid': 2, 'residual_sugar': 3, 'chlorides': 4, 'free_sulfur_dioxide': 5, 'total_sulfur_dioxide': 6, 'density': 7, 'pH': 8, 'sulphates': 9, 'alcohol': 10, 'quality': 11, 'Id': 12})\n",
      "Row((10.4, 0.61, 0.49, 2.1, 0.2, 5.0, 16.0, 0.9994, 3.16, 0.63, 8.4, 3, 517), {'fixed_acidity': 0, 'volatile_acidity': 1, 'citric_acid': 2, 'residual_sugar': 3, 'chlorides': 4, 'free_sulfur_dioxide': 5, 'total_sulfur_dioxide': 6, 'density': 7, 'pH': 8, 'sulphates': 9, 'alcohol': 10, 'quality': 11, 'Id': 12})\n",
      "Row((7.6, 1.58, 0.0, 2.1, 0.13699999999999998, 5.0, 9.0, 0.9947600000000001, 3.5, 0.4, 10.9, 3, 1299), {'fixed_acidity': 0, 'volatile_acidity': 1, 'citric_acid': 2, 'residual_sugar': 3, 'chlorides': 4, 'free_sulfur_dioxide': 5, 'total_sulfur_dioxide': 6, 'density': 7, 'pH': 8, 'sulphates': 9, 'alcohol': 10, 'quality': 11, 'Id': 12})\n",
      "Row((7.3, 0.55, 0.03, 1.6, 0.07200000000000001, 17.0, 42.0, 0.9956, 3.37, 0.48, 9.0, 4, 167), {'fixed_acidity': 0, 'volatile_acidity': 1, 'citric_acid': 2, 'residual_sugar': 3, 'chlorides': 4, 'free_sulfur_dioxide': 5, 'total_sulfur_dioxide': 6, 'density': 7, 'pH': 8, 'sulphates': 9, 'alcohol': 10, 'quality': 11, 'Id': 12})\n",
      "Row((9.9, 0.5, 0.24, 2.3, 0.10300000000000001, 6.0, 14.0, 0.9978, 3.34, 0.52, 10.0, 4, 576), {'fixed_acidity': 0, 'volatile_acidity': 1, 'citric_acid': 2, 'residual_sugar': 3, 'chlorides': 4, 'free_sulfur_dioxide': 5, 'total_sulfur_dioxide': 6, 'density': 7, 'pH': 8, 'sulphates': 9, 'alcohol': 10, 'quality': 11, 'Id': 12})\n",
      "Row((7.3, 0.35, 0.24, 2.0, 0.067, 28.0, 48.0, 0.9957600000000001, 3.43, 0.54, 10.0, 4, 872), {'fixed_acidity': 0, 'volatile_acidity': 1, 'citric_acid': 2, 'residual_sugar': 3, 'chlorides': 4, 'free_sulfur_dioxide': 5, 'total_sulfur_dioxide': 6, 'density': 7, 'pH': 8, 'sulphates': 9, 'alcohol': 10, 'quality': 11, 'Id': 12})\n",
      "Row((6.2, 0.785, 0.0, 2.1, 0.06, 6.0, 13.0, 0.99664, 3.59, 0.61, 10.0, 4, 1461), {'fixed_acidity': 0, 'volatile_acidity': 1, 'citric_acid': 2, 'residual_sugar': 3, 'chlorides': 4, 'free_sulfur_dioxide': 5, 'total_sulfur_dioxide': 6, 'density': 7, 'pH': 8, 'sulphates': 9, 'alcohol': 10, 'quality': 11, 'Id': 12})\n",
      "Row((5.0, 1.02, 0.04, 1.4, 0.045, 41.0, 85.0, 0.9938, 3.75, 0.48, 10.5, 4, 94), {'fixed_acidity': 0, 'volatile_acidity': 1, 'citric_acid': 2, 'residual_sugar': 3, 'chlorides': 4, 'free_sulfur_dioxide': 5, 'total_sulfur_dioxide': 6, 'density': 7, 'pH': 8, 'sulphates': 9, 'alcohol': 10, 'quality': 11, 'Id': 12})\n",
      "Row((8.3, 0.845, 0.01, 2.2, 0.07, 5.0, 14.0, 0.9967, 3.32, 0.58, 11.0, 4, 647), {'fixed_acidity': 0, 'volatile_acidity': 1, 'citric_acid': 2, 'residual_sugar': 3, 'chlorides': 4, 'free_sulfur_dioxide': 5, 'total_sulfur_dioxide': 6, 'density': 7, 'pH': 8, 'sulphates': 9, 'alcohol': 10, 'quality': 11, 'Id': 12})\n",
      "Row((6.4, 0.53, 0.09, 3.9, 0.12300000000000001, 14.0, 31.0, 0.9968, 3.5, 0.67, 11.0, 4, 1423), {'fixed_acidity': 0, 'volatile_acidity': 1, 'citric_acid': 2, 'residual_sugar': 3, 'chlorides': 4, 'free_sulfur_dioxide': 5, 'total_sulfur_dioxide': 6, 'density': 7, 'pH': 8, 'sulphates': 9, 'alcohol': 10, 'quality': 11, 'Id': 12})\n",
      "Row((6.7, 1.04, 0.08, 2.3, 0.067, 19.0, 32.0, 0.9964799999999999, 3.52, 0.57, 11.0, 4, 1467), {'fixed_acidity': 0, 'volatile_acidity': 1, 'citric_acid': 2, 'residual_sugar': 3, 'chlorides': 4, 'free_sulfur_dioxide': 5, 'total_sulfur_dioxide': 6, 'density': 7, 'pH': 8, 'sulphates': 9, 'alcohol': 10, 'quality': 11, 'Id': 12})\n",
      "Row((8.5, 0.4, 0.4, 6.3, 0.05, 3.0, 10.0, 0.99566, 3.28, 0.56, 12.0, 4, 1276), {'fixed_acidity': 0, 'volatile_acidity': 1, 'citric_acid': 2, 'residual_sugar': 3, 'chlorides': 4, 'free_sulfur_dioxide': 5, 'total_sulfur_dioxide': 6, 'density': 7, 'pH': 8, 'sulphates': 9, 'alcohol': 10, 'quality': 11, 'Id': 12})\n",
      "Row((8.3, 0.625, 0.2, 1.5, 0.08, 27.0, 119.0, 0.9972, 3.16, 1.12, 9.1, 4, 79), {'fixed_acidity': 0, 'volatile_acidity': 1, 'citric_acid': 2, 'residual_sugar': 3, 'chlorides': 4, 'free_sulfur_dioxide': 5, 'total_sulfur_dioxide': 6, 'density': 7, 'pH': 8, 'sulphates': 9, 'alcohol': 10, 'quality': 11, 'Id': 12})\n",
      "Row((7.9, 0.885, 0.03, 1.8, 0.057999999999999996, 4.0, 8.0, 0.9972, 3.36, 0.33, 9.1, 4, 170), {'fixed_acidity': 0, 'volatile_acidity': 1, 'citric_acid': 2, 'residual_sugar': 3, 'chlorides': 4, 'free_sulfur_dioxide': 5, 'total_sulfur_dioxide': 6, 'density': 7, 'pH': 8, 'sulphates': 9, 'alcohol': 10, 'quality': 11, 'Id': 12})\n",
      "Row((12.5, 0.46, 0.49, 4.5, 0.07, 26.0, 49.0, 0.9981, 3.05, 0.57, 9.6, 4, 409), {'fixed_acidity': 0, 'volatile_acidity': 1, 'citric_acid': 2, 'residual_sugar': 3, 'chlorides': 4, 'free_sulfur_dioxide': 5, 'total_sulfur_dioxide': 6, 'density': 7, 'pH': 8, 'sulphates': 9, 'alcohol': 10, 'quality': 11, 'Id': 12})\n",
      "Row((7.5, 0.38, 0.48, 2.6, 0.073, 22.0, 84.0, 0.9972, 3.32, 0.7, 9.6, 4, 703), {'fixed_acidity': 0, 'volatile_acidity': 1, 'citric_acid': 2, 'residual_sugar': 3, 'chlorides': 4, 'free_sulfur_dioxide': 5, 'total_sulfur_dioxide': 6, 'density': 7, 'pH': 8, 'sulphates': 9, 'alcohol': 10, 'quality': 11, 'Id': 12})\n",
      "Row((8.8, 0.955, 0.05, 1.8, 0.075, 5.0, 19.0, 0.99616, 3.3, 0.44, 9.6, 4, 1189), {'fixed_acidity': 0, 'volatile_acidity': 1, 'citric_acid': 2, 'residual_sugar': 3, 'chlorides': 4, 'free_sulfur_dioxide': 5, 'total_sulfur_dioxide': 6, 'density': 7, 'pH': 8, 'sulphates': 9, 'alcohol': 10, 'quality': 11, 'Id': 12})\n"
     ]
    }
   ],
   "source": [
    "\n",
    "from google.cloud import bigquery\n",
    "\n",
    "# Construct a BigQuery client object.\n",
    "client = bigquery.Client(credentials=credentials)\n",
    "\n",
    "query = \"\"\"\n",
    "    SELECT *\n",
    "    FROM `querier-test-01.Test_01.wine`\n",
    "    LIMIT 20\n",
    "\"\"\"\n",
    "query_job = client.query(query)  # Make an API request.\n",
    "\n",
    "print(\"The query data:\")\n",
    "for row in query_job:\n",
    "    # Row values can be accessed by field name or index.\n",
    "    print(row)"
   ]
  },
  {
   "cell_type": "code",
   "execution_count": 10,
   "metadata": {},
   "outputs": [
    {
     "name": "stdout",
     "output_type": "stream",
     "text": [
      "The query data:\n",
      "table_name\tcolumn_name\tdata_type\n",
      "customer-churn\tRowNumber\tINT64\n",
      "customer-churn\tCustomerId\tINT64\n",
      "customer-churn\tSurname\tSTRING\n",
      "customer-churn\tCreditScore\tINT64\n",
      "customer-churn\tGeography\tSTRING\n",
      "customer-churn\tGender\tSTRING\n",
      "customer-churn\tAge\tINT64\n",
      "customer-churn\tTenure\tINT64\n",
      "customer-churn\tBalance\tFLOAT64\n",
      "customer-churn\tNumOfProducts\tINT64\n",
      "customer-churn\tHasCrCard\tINT64\n",
      "customer-churn\tIsActiveMember\tINT64\n",
      "customer-churn\tEstimatedSalary\tFLOAT64\n",
      "customer-churn\tExited\tINT64\n",
      "customer-churn\tComplain\tINT64\n",
      "customer-churn\tSatisfaction_Score\tINT64\n",
      "customer-churn\tCard_Type\tSTRING\n",
      "customer-churn\tPoint_Earned\tINT64\n",
      "wine\tfixed_acidity\tFLOAT64\n",
      "wine\tvolatile_acidity\tFLOAT64\n",
      "wine\tcitric_acid\tFLOAT64\n",
      "wine\tresidual_sugar\tFLOAT64\n",
      "wine\tchlorides\tFLOAT64\n",
      "wine\tfree_sulfur_dioxide\tFLOAT64\n",
      "wine\ttotal_sulfur_dioxide\tFLOAT64\n",
      "wine\tdensity\tFLOAT64\n",
      "wine\tpH\tFLOAT64\n",
      "wine\tsulphates\tFLOAT64\n",
      "wine\talcohol\tFLOAT64\n",
      "wine\tquality\tINT64\n",
      "wine\tId\tINT64\n"
     ]
    }
   ],
   "source": [
    "query = \"\"\"\n",
    "    SELECT table_name, column_name, data_type\n",
    "     FROM `querier-test-01.Test_01`.INFORMATION_SCHEMA.COLUMNS\n",
    "    ORDER BY table_name, ordinal_position\n",
    "\"\"\"\n",
    "query_job = client.query(query)  # Make an API request.\n",
    "\n",
    "print(\"The query data:\")\n",
    "print(\"table_name\\tcolumn_name\\tdata_type\")\n",
    "for row in query_job:\n",
    "    # Row values can be accessed by field name or index.\n",
    "    print('{}\\t{}\\t{}'.format(row[0],row[1],row[2]))"
   ]
  }
 ],
 "metadata": {
  "kernelspec": {
   "display_name": "Python 3",
   "language": "python",
   "name": "python3"
  },
  "language_info": {
   "codemirror_mode": {
    "name": "ipython",
    "version": 3
   },
   "file_extension": ".py",
   "mimetype": "text/x-python",
   "name": "python",
   "nbconvert_exporter": "python",
   "pygments_lexer": "ipython3",
   "version": "3.8.17"
  }
 },
 "nbformat": 4,
 "nbformat_minor": 2
}
